{
 "cells": [
  {
   "cell_type": "markdown",
   "metadata": {},
   "source": [
    "### Step 1: Importing Necessary Libraries\n",
    "We begin by importing Python libraries commonly used in data analysis and visualization:\n",
    "- `numpy` for numerical operations\n",
    "- `matplotlib.pyplot` for plotting graphs\n",
    "- `pandas` (commented out here) for handling CSV data, which is especially useful for tabular data such as redshift catalogs\n",
    "\n",
    "> Tip: If you haven’t used `pandas` before, it’s worth learning as it offers powerful tools to manipulate and analyze structured datasets.\n"
   ]
  },
  {
   "cell_type": "markdown",
   "metadata": {},
   "source": [
    "For reading big csv files, one can use numpy as well as something called \"pandas\". We suggest to read pandas for CSV file reading and use that"
   ]
  },
  {
   "cell_type": "code",
   "execution_count": 1,
   "metadata": {},
   "outputs": [],
   "source": [
    "import numpy as np\n",
    "import matplotlib.pyplot as plt\n",
    "import pandas as pd\n",
    "from astropy.constants import G, c\n",
    "from astropy.cosmology import Planck18 as cosmo\n",
    "import astropy.units as u"
   ]
  },
  {
   "cell_type": "markdown",
   "metadata": {},
   "source": [
    "\n",
    "Before we begin calculations, we define key physical constants used throughout:\n",
    "\n",
    "- $ H_0 $: Hubble constant, describes the expansion rate of the Universe.\n",
    "- $c$ : Speed of light.\n",
    "-  $G$: Gravitational constant.\n",
    "- $q_0$ : Deceleration parameter, used for approximate co-moving distance calculations.\n",
    "\n",
    "We will use **`astropy.constants`** to ensure unit consistency and precision."
   ]
  },
  {
   "cell_type": "code",
   "execution_count": 2,
   "metadata": {},
   "outputs": [],
   "source": [
    "# Constants:\n",
    "H_0 = 70 * 1000 / (3.086e22)  # Hubble constant in SI units: 70 km/s/Mpc converted to 1/s\n",
    "c = 3e8  # Speed of light in m/s\n",
    "G = 6.67430e-11  # Gravitational constant in m^3 kg^-1 s^-2\n",
    "q0 = -0.534  # Deceleration parameter (assumed from Planck fit)"
   ]
  },
  {
   "cell_type": "markdown",
   "metadata": {},
   "source": [
    "Read the csv data into the python using the method below"
   ]
  },
  {
   "cell_type": "code",
   "execution_count": 39,
   "metadata": {},
   "outputs": [],
   "source": [
    "file_path = \"C:/Users/Ansh/Downloads/Skyserver_SQL6_17_2025 4_59_10 AM.csv\" # Download the data as instructed in the pdf\n",
    "df = pd.read_csv(file_path, skiprows=1, dtype={'objid': str})"
   ]
  },
  {
   "cell_type": "code",
   "execution_count": 40,
   "metadata": {},
   "outputs": [
    {
     "data": {
      "text/html": [
       "<div>\n",
       "<style scoped>\n",
       "    .dataframe tbody tr th:only-of-type {\n",
       "        vertical-align: middle;\n",
       "    }\n",
       "\n",
       "    .dataframe tbody tr th {\n",
       "        vertical-align: top;\n",
       "    }\n",
       "\n",
       "    .dataframe thead th {\n",
       "        text-align: right;\n",
       "    }\n",
       "</style>\n",
       "<table border=\"1\" class=\"dataframe\">\n",
       "  <thead>\n",
       "    <tr style=\"text-align: right;\">\n",
       "      <th></th>\n",
       "      <th>objid</th>\n",
       "      <th>ra</th>\n",
       "      <th>dec</th>\n",
       "      <th>photoz</th>\n",
       "      <th>photozerr</th>\n",
       "      <th>specz</th>\n",
       "      <th>speczerr</th>\n",
       "      <th>proj_sep</th>\n",
       "      <th>umag</th>\n",
       "      <th>umagerr</th>\n",
       "      <th>gmag</th>\n",
       "      <th>gmagerr</th>\n",
       "      <th>rmag</th>\n",
       "      <th>rmagerr</th>\n",
       "      <th>obj_type</th>\n",
       "    </tr>\n",
       "  </thead>\n",
       "  <tbody>\n",
       "    <tr>\n",
       "      <th>0</th>\n",
       "      <td>1237671939804627535</td>\n",
       "      <td>258.48871</td>\n",
       "      <td>64.111343</td>\n",
       "      <td>0.079721</td>\n",
       "      <td>0.009565</td>\n",
       "      <td>0.080896</td>\n",
       "      <td>0.000023</td>\n",
       "      <td>9.483374</td>\n",
       "      <td>19.85553</td>\n",
       "      <td>0.067158</td>\n",
       "      <td>17.81776</td>\n",
       "      <td>0.006378</td>\n",
       "      <td>16.88524</td>\n",
       "      <td>0.004627</td>\n",
       "      <td>3</td>\n",
       "    </tr>\n",
       "    <tr>\n",
       "      <th>1</th>\n",
       "      <td>1237671939804627535</td>\n",
       "      <td>258.48871</td>\n",
       "      <td>64.111343</td>\n",
       "      <td>0.079721</td>\n",
       "      <td>0.009565</td>\n",
       "      <td>0.080899</td>\n",
       "      <td>0.000029</td>\n",
       "      <td>9.483374</td>\n",
       "      <td>19.85553</td>\n",
       "      <td>0.067158</td>\n",
       "      <td>17.81776</td>\n",
       "      <td>0.006378</td>\n",
       "      <td>16.88524</td>\n",
       "      <td>0.004627</td>\n",
       "      <td>3</td>\n",
       "    </tr>\n",
       "    <tr>\n",
       "      <th>2</th>\n",
       "      <td>1237671939804627518</td>\n",
       "      <td>258.46676</td>\n",
       "      <td>64.119499</td>\n",
       "      <td>0.088762</td>\n",
       "      <td>0.016934</td>\n",
       "      <td>0.082876</td>\n",
       "      <td>0.000006</td>\n",
       "      <td>8.986029</td>\n",
       "      <td>18.92277</td>\n",
       "      <td>0.036291</td>\n",
       "      <td>17.83406</td>\n",
       "      <td>0.006814</td>\n",
       "      <td>17.36895</td>\n",
       "      <td>0.006322</td>\n",
       "      <td>3</td>\n",
       "    </tr>\n",
       "    <tr>\n",
       "      <th>3</th>\n",
       "      <td>1237671939804627483</td>\n",
       "      <td>258.43205</td>\n",
       "      <td>64.123685</td>\n",
       "      <td>0.077184</td>\n",
       "      <td>0.010523</td>\n",
       "      <td>0.080790</td>\n",
       "      <td>0.000025</td>\n",
       "      <td>8.146154</td>\n",
       "      <td>20.08116</td>\n",
       "      <td>0.082063</td>\n",
       "      <td>18.15476</td>\n",
       "      <td>0.007831</td>\n",
       "      <td>17.27835</td>\n",
       "      <td>0.005706</td>\n",
       "      <td>3</td>\n",
       "    </tr>\n",
       "    <tr>\n",
       "      <th>4</th>\n",
       "      <td>1237671939804627464</td>\n",
       "      <td>258.44994</td>\n",
       "      <td>64.025909</td>\n",
       "      <td>0.081894</td>\n",
       "      <td>0.013624</td>\n",
       "      <td>0.071802</td>\n",
       "      <td>0.000025</td>\n",
       "      <td>9.316140</td>\n",
       "      <td>20.05525</td>\n",
       "      <td>0.065651</td>\n",
       "      <td>18.35306</td>\n",
       "      <td>0.008030</td>\n",
       "      <td>17.51662</td>\n",
       "      <td>0.005923</td>\n",
       "      <td>3</td>\n",
       "    </tr>\n",
       "  </tbody>\n",
       "</table>\n",
       "</div>"
      ],
      "text/plain": [
       "                 objid         ra        dec    photoz  photozerr     specz  \\\n",
       "0  1237671939804627535  258.48871  64.111343  0.079721   0.009565  0.080896   \n",
       "1  1237671939804627535  258.48871  64.111343  0.079721   0.009565  0.080899   \n",
       "2  1237671939804627518  258.46676  64.119499  0.088762   0.016934  0.082876   \n",
       "3  1237671939804627483  258.43205  64.123685  0.077184   0.010523  0.080790   \n",
       "4  1237671939804627464  258.44994  64.025909  0.081894   0.013624  0.071802   \n",
       "\n",
       "   speczerr  proj_sep      umag   umagerr      gmag   gmagerr      rmag  \\\n",
       "0  0.000023  9.483374  19.85553  0.067158  17.81776  0.006378  16.88524   \n",
       "1  0.000029  9.483374  19.85553  0.067158  17.81776  0.006378  16.88524   \n",
       "2  0.000006  8.986029  18.92277  0.036291  17.83406  0.006814  17.36895   \n",
       "3  0.000025  8.146154  20.08116  0.082063  18.15476  0.007831  17.27835   \n",
       "4  0.000025  9.316140  20.05525  0.065651  18.35306  0.008030  17.51662   \n",
       "\n",
       "    rmagerr  obj_type  \n",
       "0  0.004627         3  \n",
       "1  0.004627         3  \n",
       "2  0.006322         3  \n",
       "3  0.005706         3  \n",
       "4  0.005923         3  "
      ]
     },
     "execution_count": 40,
     "metadata": {},
     "output_type": "execute_result"
    }
   ],
   "source": [
    "df.head()"
   ]
  },
  {
   "cell_type": "markdown",
   "metadata": {},
   "source": [
    "### 📊 Calculating the Average Spectroscopic Redshift (`specz`) for Each Object\n",
    "\n",
    "When working with astronomical catalogs, an object (identified by a unique `objid`) might have multiple entries — for example, due to repeated observations. To reduce this to a single row per object, we aggregate the data using the following strategy:\n",
    "\n",
    "```python\n",
    "averaged_df = df.groupby('objid').agg({\n",
    "    'specz': 'mean',        # Take the mean of all spec-z values for that object\n",
    "    'ra': 'first',          # Use the first RA value (assumed constant for the object)\n",
    "    'dec': 'first',         # Use the first Dec value (same reason as above)\n",
    "    'proj_sep': 'first'     # Use the first projected separation value\n",
    "}).reset_index()\n"
   ]
  },
  {
   "cell_type": "code",
   "execution_count": 18,
   "metadata": {},
   "outputs": [
    {
     "data": {
      "text/plain": [
       "count    92.000000\n",
       "mean      0.080838\n",
       "std       0.008578\n",
       "min       0.069976\n",
       "25%       0.077224\n",
       "50%       0.080961\n",
       "75%       0.082797\n",
       "max       0.150886\n",
       "Name: specz, dtype: float64"
      ]
     },
     "execution_count": 18,
     "metadata": {},
     "output_type": "execute_result"
    }
   ],
   "source": [
    "# Calculating the average specz for each id:\n",
    "averaged_df = df.groupby('objid').agg({'specz': 'mean','ra': 'first','dec': 'first','proj_sep': 'first',}).reset_index()\n",
    "averaged_df.describe()['specz']"
   ]
  },
  {
   "cell_type": "markdown",
   "metadata": {},
   "source": [
    "To create a cut in the redshift so that a cluster can be identified. We must use some logic. Most astronomers prefer anything beyond 3*sigma away from the mean to be not part of the same group. \n",
    "\n",
    "Find the mean, standard deviation and limits of the redshift from the data"
   ]
  },
  {
   "cell_type": "code",
   "execution_count": 19,
   "metadata": {},
   "outputs": [
    {
     "name": "stdout",
     "output_type": "stream",
     "text": [
      "Mean Redshift: 0.0808\n",
      "Std Dev Redshift: 0.0086\n",
      "3-sigma Lower Limit: 0.0551\n",
      "3-sigma Upper Limit: 0.1066\n"
     ]
    }
   ],
   "source": [
    "mean_specz = averaged_df['specz'].mean()\n",
    "std_specz = averaged_df['specz'].std()\n",
    "lower_limit = mean_specz - 3 * std_specz\n",
    "upper_limit = mean_specz + 3 * std_specz\n",
    "\n",
    "# Filter the data\n",
    "filtered_df = averaged_df[(averaged_df['specz'] >= lower_limit) & (averaged_df['specz'] <= upper_limit)]\n",
    "\n",
    "print(f\"Mean Redshift: {mean_specz:.4f}\")\n",
    "print(f\"Std Dev Redshift: {std_specz:.4f}\")\n",
    "print(f\"3-sigma Lower Limit: {lower_limit:.4f}\")\n",
    "print(f\"3-sigma Upper Limit: {upper_limit:.4f}\")"
   ]
  },
  {
   "cell_type": "markdown",
   "metadata": {},
   "source": [
    "You can also use boxplot to visualize the overall values of redshift "
   ]
  },
  {
   "cell_type": "code",
   "execution_count": null,
   "metadata": {},
   "outputs": [
    {
     "data": {
      "image/png": "[encoded data removed]",
      "text/plain": [
       "<Figure size 1200x500 with 1 Axes>"
      ]
     },
     "metadata": {},
     "output_type": "display_data"
    }
   ],
   "source": [
    "# Plot the dsitribution of redshift as histogram and a boxplot \n",
    "import matplotlib.pyplot as plt\n",
    "import seaborn as sns\n",
    "\n",
    "sns.set(style=\"whitegrid\")\n",
    "plt.figure(figsize=(12, 5))\n",
    "plt.subplot(1, 2, 2)\n",
    "sns.boxplot(x=averaged_df['specz'], color='lightgreen')\n",
    "plt.title(\"Boxplot of Redshift\")\n",
    "plt.xlabel(\"Spectroscopic Redshift (specz)\")\n",
    "\n",
    "plt.tight_layout()\n",
    "plt.show()"
   ]
  },
  {
   "cell_type": "markdown",
   "metadata": {},
   "source": [
    "But the best plot would be a histogram to see where most of the objects downloaded lie in terms of redshift value"
   ]
  },
  {
   "cell_type": "code",
   "execution_count": 21,
   "metadata": {},
   "outputs": [
    {
     "data": {
      "image/png": "[encoded data removed]",
      "text/plain": [
       "<Figure size 640x480 with 1 Axes>"
      ]
     },
     "metadata": {},
     "output_type": "display_data"
    }
   ],
   "source": [
    "plt.hist(averaged_df['specz'],bins=10)\n",
    "plt.grid()\n",
    "plt.show()"
   ]
  },
  {
   "cell_type": "markdown",
   "metadata": {},
   "source": [
    "Filter your data based on the 3-sigma limit of redshift. You should remove all data points which are 3-sigma away from mean of redshift"
   ]
  },
  {
   "cell_type": "code",
   "execution_count": null,
   "metadata": {},
   "outputs": [
    {
     "name": "stdout",
     "output_type": "stream",
     "text": [
      "\n",
      "Redshift Filtering\n",
      "Original number of galaxies: 92\n",
      "Mean Redshift: 0.0808\n",
      "Standard Deviation of Redshift: 0.0086\n",
      "3-sigma Lower Limit (Redshift): 0.0551\n",
      "3-sigma Upper Limit (Redshift): 0.1066\n",
      "Number of galaxies after 3-sigma filtering: 91\n"
     ]
    }
   ],
   "source": [
    "#filtering the data based on specz values, used 3 sigma deviation from mean as upper limit.\n",
    "\n",
    "print(\"\\nRedshift Filtering\")\n",
    "mean_specz = averaged_df['specz'].mean()\n",
    "std_specz = averaged_df['specz'].std()\n",
    "\n",
    "if pd.isna(std_specz) or std_specz == 0:\n",
    "    print(\"Warning: Standard deviation of redshift is NaN or zero. Cannot apply 3-sigma filter.\")\n",
    "    print(\"This might happen if all 'specz' values are identical after averaging or if there's insufficient data.\")\n",
    "    filtered_df = averaged_df.copy()\n",
    "    lower_limit = mean_specz\n",
    "    upper_limit = mean_specz\n",
    "else:\n",
    "    lower_limit = mean_specz - 3 * std_specz\n",
    "    upper_limit = mean_specz + 3 * std_specz\n",
    "\n",
    "    if lower_limit < 0:\n",
    "        lower_limit = 0\n",
    "\n",
    "    filtered_df = averaged_df[(averaged_df['specz'] >= lower_limit) & (averaged_df['specz'] <= upper_limit)].copy()\n",
    "\n",
    "print(f\"Original number of galaxies: {len(averaged_df)}\")\n",
    "print(f\"Mean Redshift: {mean_specz:.4f}\")\n",
    "print(f\"Standard Deviation of Redshift: {std_specz:.4f}\")\n",
    "print(f\"3-sigma Lower Limit (Redshift): {lower_limit:.4f}\")\n",
    "print(f\"3-sigma Upper Limit (Redshift): {upper_limit:.4f}\")\n",
    "print(f\"Number of galaxies after 3-sigma filtering: {len(filtered_df)}\")\n"
   ]
  },
  {
   "cell_type": "markdown",
   "metadata": {},
   "source": [
    "Use the relation between redshift and velocity to add a column named velocity in the data. This would tell the expansion velocity at that redshift "
   ]
  },
  {
   "cell_type": "code",
   "execution_count": 23,
   "metadata": {},
   "outputs": [],
   "source": [
    "c_val = c\n",
    "G_val = G \n"
   ]
  },
  {
   "cell_type": "code",
   "execution_count": null,
   "metadata": {},
   "outputs": [
    {
     "name": "stdout",
     "output_type": "stream",
     "text": [
      "\n",
      "Adding Velocity Column\n",
      "Mean redshift of the identified cluster (from filtered data): 0.0801\n",
      "'velocity' column successfully added to 'filtered_df' (values in m/s).\n",
      "Example velocities (first 5 in km/s):\n",
      "0     662.82\n",
      "1     319.41\n",
      "2    -139.88\n",
      "3     214.89\n",
      "4    1249.41\n",
      "Name: velocity, dtype: float64\n"
     ]
    }
   ],
   "source": [
    "print(\"\\nAdding Velocity Column\")\n",
    "# Calculate cluster redshift from the filtered data\n",
    "cluster_redshift = filtered_df['specz'].mean()\n",
    "print(f\"Mean redshift of the identified cluster (from filtered data): {cluster_redshift:.4f}\")\n",
    "\n",
    "filtered_df['velocity'] = c_val * (\n",
    "    ((1 + filtered_df['specz'])**2 - (1 + cluster_redshift)**2) /\n",
    "    ((1 + filtered_df['specz'])**2 + (1 + cluster_redshift)**2)\n",
    ")\n",
    "\n",
    "print(\"'velocity' column successfully added to 'filtered_df' (values in m/s).\")\n",
    "print(\"Example velocities (first 5 in km/s):\")\n",
    "print((filtered_df['velocity'].head() / 1000).round(2))"
   ]
  },
  {
   "cell_type": "code",
   "execution_count": null,
   "metadata": {},
   "outputs": [
    {
     "data": {
      "image/png": "[encoded data removed]",
      "text/plain": [
       "<Figure size 1000x600 with 1 Axes>"
      ]
     },
     "metadata": {},
     "output_type": "display_data"
    }
   ],
   "source": [
    "#plot the velocity column created as hist\n",
    "plt.figure(figsize=(10, 6))\n",
    "plt.hist(filtered_df['velocity'] / 1000, bins=50, color='mediumseagreen', edgecolor='black', alpha=0.8)\n",
    "plt.title(\"Distribution of Relative Velocities in the Galaxy Cluster\", fontsize=16)\n",
    "plt.xlabel(\"Relative Velocity (km/s)\", fontsize=14)\n",
    "plt.ylabel(\"Number of Galaxies\", fontsize=14)\n",
    "plt.grid(axis='y', linestyle='--', alpha=0.7)\n",
    "plt.minorticks_on()\n",
    "plt.tick_params(which='both', direction='in', top=True, right=True)\n",
    "plt.show()"
   ]
  },
  {
   "cell_type": "code",
   "execution_count": null,
   "metadata": {},
   "outputs": [
    {
     "name": "stdout",
     "output_type": "stream",
     "text": [
      "The characteristic value of velocity dispersion of the cluster along the line of sight (sigma):\n",
      "  = 1.22e+06 m/s\n",
      "  = 1219.34 km/s\n",
      "\n",
      "This velocity dispersion value is typical for a galaxy cluster.\n"
     ]
    }
   ],
   "source": [
    "#calculate Velocity Dispersion\n",
    "velocity_dispersion_ms = filtered_df['velocity'].std()\n",
    "\n",
    "#convert velocity dispersion to km/s for standard astronomical units\n",
    "velocity_dispersion_kms = velocity_dispersion_ms / 1000\n",
    "\n",
    "print(f\"The characteristic value of velocity dispersion of the cluster along the line of sight (sigma):\")\n",
    "print(f\"  = {velocity_dispersion_ms:.2e} m/s\")\n",
    "print(f\"  = {velocity_dispersion_kms:.2f} km/s\")\n",
    "\n",
    "#provide some context/sanity check for the calculated dispersion\n",
    "if velocity_dispersion_kms > 0 and velocity_dispersion_kms < 2000:\n",
    "    print(\"\\nThis velocity dispersion value is typical for a galaxy cluster.\")\n",
    "elif velocity_dispersion_kms >= 2000:\n",
    "    print(\"\\nThis velocity dispersion is very high, suggesting a particularly massive or dynamically active cluster.\")\n",
    "else:\n",
    "    print(\"\\nThe calculated velocity dispersion is very low or zero. This might indicate an issue with\")\n",
    "    print(\"data, filtering, or that the selected galaxies do not form a distinct cluster.\")\n"
   ]
  },
  {
   "cell_type": "markdown",
   "metadata": {},
   "source": [
    "use the dispersion equation to find something called velocity dispersion. You can even refer to wikipedia to know about the term [wiki link here](https://en.wikipedia.org/wiki/Velocity_dispersion#:~:text=In%20astronomy%2C%20the%20velocity%20dispersion,%2C%20galaxy%20cluster%2C%20or%20supercluster.)\n",
    "\n",
    "It is the velocity dispersion value which tells us, some galaxies might be part of even larger groups!!"
   ]
  },
  {
   "cell_type": "markdown",
   "metadata": {},
   "source": [
    "### Step 2: Calculate Mean Redshift of the Cluster\n",
    "We calculate the average redshift (`specz`) of galaxies that belong to a cluster. This gives us an estimate of the cluster's systemic redshift.\n",
    "\n",
    "`cluster_redshift = filtered_df['specz'].mean()`\n"
   ]
  },
  {
   "cell_type": "markdown",
   "metadata": {},
   "source": [
    "The velocity dispersion \\( v \\) of galaxies relative to the cluster mean redshift is computed using the relativistic Doppler formula:\n",
    "\n",
    "$$\n",
    "v = c \\cdot \\frac{(1 + z)^2 - (1 + z_{\\text{cluster}})^2}{(1 + z)^2 + (1 + z_{\\text{cluster}})^2}\n",
    "$$\n",
    "where:\n",
    "- \\( v \\) is the relative velocity (dispersion),\n",
    "- \\( z \\) is the redshift of the individual galaxy,\n",
    "- \\( $z_{\\text{cluster}}$ \\) is the mean cluster redshift,\n",
    "- \\( c \\) is the speed of light.\n"
   ]
  },
  {
   "cell_type": "code",
   "execution_count": 29,
   "metadata": {},
   "outputs": [
    {
     "name": "stdout",
     "output_type": "stream",
     "text": [
      "The mean redshift of the cluster is: 0.0801\n"
     ]
    }
   ],
   "source": [
    "mean_cluster_redshift = filtered_df['specz'].mean()\n",
    "print(f\"The mean redshift of the cluster is: {mean_cluster_redshift:.4f}\")"
   ]
  },
  {
   "cell_type": "markdown",
   "metadata": {},
   "source": [
    "Pro tip: Check what the describe function of pandas does. Does it help to get quick look stats for your column of dispersion??"
   ]
  },
  {
   "cell_type": "code",
   "execution_count": 30,
   "metadata": {},
   "outputs": [
    {
     "name": "stdout",
     "output_type": "stream",
     "text": [
      "count       0.091000\n",
      "mean       -2.451027\n",
      "std      1219.336490\n",
      "min     -2816.179091\n",
      "25%      -807.165187\n",
      "50%       237.343287\n",
      "75%       755.500236\n",
      "max      4209.048637\n",
      "Name: velocity, dtype: float64\n"
     ]
    }
   ],
   "source": [
    "print(filtered_df['velocity'].describe() / 1000)"
   ]
  },
  {
   "cell_type": "code",
   "execution_count": 37,
   "metadata": {},
   "outputs": [
    {
     "name": "stdout",
     "output_type": "stream",
     "text": [
      "The value of the cluster redshift = 0.08007\n",
      "The characteristic value of velocity dispersion of the cluster along the line of sight = 1.219e+03 km/s.\n"
     ]
    }
   ],
   "source": [
    "\n",
    "print(f\"The value of the cluster redshift = {cluster_redshift:.4}\")\n",
    "print(f\"The characteristic value of velocity dispersion of the cluster along the line of sight = {velocity_dispersion_ms / 1000 :.4} km/s.\")"
   ]
  },
  {
   "cell_type": "markdown",
   "metadata": {},
   "source": [
    "### Step 4: Visualizing Angular Separation of Galaxies\n",
    "We plot a histogram of the projected (angular) separation of galaxies from the cluster center. This helps us understand the spatial distribution of galaxies within the cluster field.\n",
    "\n",
    "- The x-axis represents the angular separation (in arcminutes or degrees, depending on units).\n",
    "- The y-axis shows the number of galaxies at each separation bin.\n",
    "\n"
   ]
  },
  {
   "cell_type": "code",
   "execution_count": 32,
   "metadata": {},
   "outputs": [
    {
     "data": {
      "image/png": "[encoded data removed]",
      "text/plain": [
       "<Figure size 1000x600 with 1 Axes>"
      ]
     },
     "metadata": {},
     "output_type": "display_data"
    }
   ],
   "source": [
    "#Plot histogram for proj sep column\n",
    "plt.figure(figsize=(10, 6))\n",
    "plt.hist(filtered_df['proj_sep'], bins=30, color='teal', edgecolor='black', alpha=0.8)\n",
    "plt.title(\"Distribution of Projected Angular Separation of Galaxies\", fontsize=16)\n",
    "plt.xlabel(\"Projected Angular Separation (arcminutes)\", fontsize=14)\n",
    "plt.ylabel(\"Number of Galaxies\", fontsize=14)\n",
    "plt.grid(axis='y', linestyle='--', alpha=0.7)\n",
    "plt.minorticks_on()\n",
    "plt.tick_params(which='both', direction='in', top=True, right=True)\n",
    "plt.show()"
   ]
  },
  {
   "cell_type": "markdown",
   "metadata": {},
   "source": [
    "### Determining size and mass of the cluster:"
   ]
  },
  {
   "cell_type": "markdown",
   "metadata": {},
   "source": [
    "### Step 5: Estimating Physical Diameter of the Cluster\n",
    "We now estimate the **physical diameter** of the galaxy cluster using cosmological parameters.\n",
    "\n",
    "- `r` is the **co-moving distance**, approximated using a Taylor expansion for low redshift:\n",
    "  $$\n",
    "  r = \\frac{cz}{H_0} \\left(1 - \\frac{z}{2}(1 + q_0)\\right)\n",
    "  $$\n",
    "  where $q_0$ is the deceleration parameter\n",
    "- `ra` is the **angular diameter distance**, given by:\n",
    "  $$\n",
    "  D_A = \\frac{r}{1 + z}\n",
    "  $$\n",
    "- Finally, we convert the observed angular diameter (in arcminutes) into physical size using:\n",
    "  $$\n",
    "  \\text{diameter (in Mpc)} = D_A \\cdot \\theta\n",
    "  $$\n",
    "  where $ \\theta $ is the angular size in radians, converted from arcminutes.\n",
    "\n",
    "> This gives us a rough estimate of the cluster's size in megaparsecs (Mpc), assuming a flat ΛCDM cosmology.\n"
   ]
  },
  {
   "cell_type": "code",
   "execution_count": 33,
   "metadata": {},
   "outputs": [
    {
     "data": {
      "text/plain": [
       "np.float64(0.892837376082904)"
      ]
     },
     "execution_count": 33,
     "metadata": {},
     "output_type": "execute_result"
    }
   ],
   "source": [
    "r= (c * cluster_redshift / H_0) * (1 - (cluster_redshift / 2) * (1 + q0))\n",
    "ra= r / (1 + cluster_redshift)\n",
    "\n",
    "max_proj_sep_arcmin = filtered_df['proj_sep'].max()\n",
    "# Convert this angular size from arcminutes to radians\n",
    "angular_size_radians = max_proj_sep_arcmin * (u.arcmin).to(u.rad)\n",
    "# Calculate physical diameter in meters, then convert to Mpc\n",
    "diameter_meters = ra * angular_size_radians\n",
    "diameter = diameter_meters / (3.086e22) # diameter in Mpc (1 Mpc = 3.086e22 meters)\n",
    "\n",
    "diameter"
   ]
  },
  {
   "cell_type": "markdown",
   "metadata": {},
   "source": [
    "### Step 6: Calculating the Dynamical Mass of the Cluster\n",
    "We now estimate the **dynamical mass** of the galaxy cluster using the virial theorem:\n",
    "\n",
    "$$\n",
    "M_{\\text{dyn}} = \\frac{3 \\sigma^2 R}{G}\n",
    "$$\n",
    "\n",
    "Where:\n",
    "- $ \\sigma $ is the **velocity dispersion** in m/s (`disp * 1000`),\n",
    "- $ R $ is the **cluster radius** in meters (half the physical diameter converted to meters),\n",
    "- $ G $ is the **gravitational constant** in SI units,\n",
    "- The factor of 3 assumes an isotropic velocity distribution (common in virial estimates).\n",
    "\n",
    "We convert the final result into **solar masses** by dividing by $ 2 \\times 10^{30} \\, \\text{kg} $.\n",
    "\n",
    "> This mass estimate assumes the cluster is in dynamical equilibrium and bound by gravity.\n"
   ]
  },
  {
   "cell_type": "code",
   "execution_count": 38,
   "metadata": {},
   "outputs": [
    {
     "name": "stdout",
     "output_type": "stream",
     "text": [
      "Dynamical Mass of the cluster is 4.48e+14 solar mass\n"
     ]
    }
   ],
   "source": [
    "### Calculating the dynamical mass in solar masses:\n",
    "M_dyn =3*((velocity_dispersion_kms*1000)**2)*(diameter*0.5*10**6*3*10**16)/(G*2*10**30)\n",
    "\n",
    "print(f\"Dynamical Mass of the cluster is {M_dyn:.2e} solar mass\")"
   ]
  }
 ],
 "metadata": {
  "kernelspec": {
   "display_name": "Python 3",
   "language": "python",
   "name": "python3"
  },
  "language_info": {
   "codemirror_mode": {
    "name": "ipython",
    "version": 3
   },
   "file_extension": ".py",
   "mimetype": "text/x-python",
   "name": "python",
   "nbconvert_exporter": "python",
   "pygments_lexer": "ipython3",
   "version": "3.12.1"
  }
 },
 "nbformat": 4,
 "nbformat_minor": 2
}
